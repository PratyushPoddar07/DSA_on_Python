{
 "cells": [
  {
   "cell_type": "code",
   "execution_count": 1,
   "id": "a75541d0-745e-4bd8-add5-15dea53be4b4",
   "metadata": {},
   "outputs": [],
   "source": [
    "my_str = \"Pratyush Poddar\""
   ]
  },
  {
   "cell_type": "markdown",
   "id": "81811a30-d4ce-4ebb-9684-05ec4d3f5706",
   "metadata": {},
   "source": [
    "# Lists"
   ]
  },
  {
   "cell_type": "markdown",
   "id": "c7e50c69-91b2-4465-916e-9074f2477ae4",
   "metadata": {},
   "source": [
    "### A list is a datastructure in python that is mutable or changeable ordered sequence of elements.Each element or value that is inside of a list is called an item.Just as Strings are defined as characters between quotes,list are defined by having values between square brackets[]"
   ]
  },
  {
   "cell_type": "code",
   "execution_count": 3,
   "id": "ad3deba9-9fbc-461b-a82a-7828a465f4ec",
   "metadata": {},
   "outputs": [],
   "source": [
    "lst_examples = []"
   ]
  },
  {
   "cell_type": "code",
   "execution_count": 4,
   "id": "69a19bf4-ebf8-4515-9e6b-c86ee75aa408",
   "metadata": {},
   "outputs": [
    {
     "data": {
      "text/plain": [
       "list"
      ]
     },
     "execution_count": 4,
     "metadata": {},
     "output_type": "execute_result"
    }
   ],
   "source": [
    "type(lst_examples)"
   ]
  },
  {
   "cell_type": "code",
   "execution_count": 5,
   "id": "7026b87d-1dd1-4ddd-9642-4fb231acd984",
   "metadata": {},
   "outputs": [],
   "source": [
    "lst = list()"
   ]
  },
  {
   "cell_type": "code",
   "execution_count": 6,
   "id": "39df15fe-2960-42de-99c8-67968d175914",
   "metadata": {},
   "outputs": [
    {
     "data": {
      "text/plain": [
       "list"
      ]
     },
     "execution_count": 6,
     "metadata": {},
     "output_type": "execute_result"
    }
   ],
   "source": [
    "type(lst)"
   ]
  },
  {
   "cell_type": "code",
   "execution_count": 7,
   "id": "6bfc542d-a822-41ca-a825-875d4bd85005",
   "metadata": {},
   "outputs": [],
   "source": [
    "lst = ['Math','chemistry',100,300]"
   ]
  },
  {
   "cell_type": "code",
   "execution_count": 8,
   "id": "9db34b4f-aea4-4621-9b73-9d7ec926a148",
   "metadata": {},
   "outputs": [
    {
     "data": {
      "text/plain": [
       "list"
      ]
     },
     "execution_count": 8,
     "metadata": {},
     "output_type": "execute_result"
    }
   ],
   "source": [
    "type(lst)"
   ]
  },
  {
   "cell_type": "markdown",
   "id": "379d95a0-2c33-47a6-a70b-f53c06a6209c",
   "metadata": {},
   "source": [
    "## Append"
   ]
  },
  {
   "cell_type": "code",
   "execution_count": 9,
   "id": "8f1eee86-7674-4679-badd-5513c84fba5c",
   "metadata": {},
   "outputs": [],
   "source": [
    "lst.append('shuva')"
   ]
  },
  {
   "cell_type": "code",
   "execution_count": 10,
   "id": "343fd7a3-ec57-4954-983d-2f1ffd34f5f8",
   "metadata": {},
   "outputs": [
    {
     "data": {
      "text/plain": [
       "['Math', 'chemistry', 100, 300, 'shuva']"
      ]
     },
     "execution_count": 10,
     "metadata": {},
     "output_type": "execute_result"
    }
   ],
   "source": [
    "lst"
   ]
  },
  {
   "cell_type": "markdown",
   "id": "28744d30-fa40-482e-bc5c-3b345483cfd1",
   "metadata": {},
   "source": [
    "## Insert"
   ]
  },
  {
   "cell_type": "code",
   "execution_count": 11,
   "id": "1232de45-5d7e-480f-a190-37f80d828dd5",
   "metadata": {},
   "outputs": [],
   "source": [
    "# insert in a specific order\n",
    "lst.insert(2,\"poddar\")"
   ]
  },
  {
   "cell_type": "code",
   "execution_count": 12,
   "id": "159957f1-b587-43ee-810f-12bd11c664c0",
   "metadata": {},
   "outputs": [
    {
     "data": {
      "text/plain": [
       "['Math', 'chemistry', 'poddar', 100, 300, 'shuva']"
      ]
     },
     "execution_count": 12,
     "metadata": {},
     "output_type": "execute_result"
    }
   ],
   "source": [
    "lst"
   ]
  },
  {
   "cell_type": "code",
   "execution_count": 13,
   "id": "1d2d65fc-a114-42ea-a92f-411cfcab284d",
   "metadata": {},
   "outputs": [],
   "source": [
    "lst.append([\"Hello\",\"World\"])"
   ]
  },
  {
   "cell_type": "code",
   "execution_count": 14,
   "id": "35231197-819e-4ede-9beb-1539f7f5657d",
   "metadata": {},
   "outputs": [
    {
     "data": {
      "text/plain": [
       "['Math', 'chemistry', 'poddar', 100, 300, 'shuva', ['Hello', 'World']]"
      ]
     },
     "execution_count": 14,
     "metadata": {},
     "output_type": "execute_result"
    }
   ],
   "source": [
    "lst"
   ]
  },
  {
   "cell_type": "markdown",
   "id": "b4fceb29-ab53-4a0e-a3d8-2c736394e284",
   "metadata": {},
   "source": [
    "## Extend"
   ]
  },
  {
   "cell_type": "code",
   "execution_count": 15,
   "id": "02ec3ab7-150d-4cda-b24a-b39990b9fa51",
   "metadata": {},
   "outputs": [],
   "source": [
    "lst =[1,2,3,4,5]"
   ]
  },
  {
   "cell_type": "code",
   "execution_count": 16,
   "id": "fc29b550-b806-4a76-b391-8594cdbf7810",
   "metadata": {},
   "outputs": [],
   "source": [
    "lst.extend([6,7])"
   ]
  },
  {
   "cell_type": "code",
   "execution_count": 17,
   "id": "20810fae-fc9a-4a09-b270-47f3285d80bc",
   "metadata": {},
   "outputs": [
    {
     "data": {
      "text/plain": [
       "[1, 2, 3, 4, 5, 6, 7]"
      ]
     },
     "execution_count": 17,
     "metadata": {},
     "output_type": "execute_result"
    }
   ],
   "source": [
    "lst"
   ]
  },
  {
   "cell_type": "code",
   "execution_count": 18,
   "id": "b73959c1-3499-42fa-bec6-cf2a64ad6bca",
   "metadata": {},
   "outputs": [],
   "source": [
    "lst.extend([\"Hello\",\"Shuvam\"])"
   ]
  },
  {
   "cell_type": "code",
   "execution_count": 19,
   "id": "dccf71ae-6430-48e2-a8a7-8f3d8f85e841",
   "metadata": {},
   "outputs": [
    {
     "data": {
      "text/plain": [
       "[1, 2, 3, 4, 5, 6, 7, 'Hello', 'Shuvam']"
      ]
     },
     "execution_count": 19,
     "metadata": {},
     "output_type": "execute_result"
    }
   ],
   "source": [
    "lst"
   ]
  },
  {
   "cell_type": "markdown",
   "id": "7185b3d5-5a1e-4b95-91da-cd114c7a6d30",
   "metadata": {},
   "source": [
    "### count and indesx"
   ]
  },
  {
   "cell_type": "code",
   "execution_count": 20,
   "id": "4e86b030-52fb-4a5d-839c-8d14b09e503e",
   "metadata": {},
   "outputs": [
    {
     "data": {
      "text/plain": [
       "2"
      ]
     },
     "execution_count": 20,
     "metadata": {},
     "output_type": "execute_result"
    }
   ],
   "source": [
    "lst = [1,1,2,3,4,5]\n",
    "lst.count(1)"
   ]
  },
  {
   "cell_type": "code",
   "execution_count": 21,
   "id": "bf052509-325c-4454-9a3d-7f5cc903297e",
   "metadata": {},
   "outputs": [
    {
     "data": {
      "text/plain": [
       "6"
      ]
     },
     "execution_count": 21,
     "metadata": {},
     "output_type": "execute_result"
    }
   ],
   "source": [
    "# len:calculates total len of list\n",
    "len(lst)"
   ]
  },
  {
   "cell_type": "code",
   "execution_count": 22,
   "id": "d6ce1ad3-89a4-4a0e-a382-df4dd67a275a",
   "metadata": {},
   "outputs": [
    {
     "data": {
      "text/plain": [
       "0"
      ]
     },
     "execution_count": 22,
     "metadata": {},
     "output_type": "execute_result"
    }
   ],
   "source": [
    "# index() : Returns the index of first occurence.Start and End index are not necessary parameters\n",
    "lst.index(1,0,4)"
   ]
  },
  {
   "cell_type": "code",
   "execution_count": 23,
   "id": "78f5e25c-9686-4f26-bc9a-683562b49ccf",
   "metadata": {},
   "outputs": [
    {
     "data": {
      "text/plain": [
       "1"
      ]
     },
     "execution_count": 23,
     "metadata": {},
     "output_type": "execute_result"
    }
   ],
   "source": [
    "# min and max\n",
    "min(lst)"
   ]
  },
  {
   "cell_type": "code",
   "execution_count": 24,
   "id": "099b43cc-f513-4edd-a20d-6527a8909a59",
   "metadata": {},
   "outputs": [
    {
     "data": {
      "text/plain": [
       "5"
      ]
     },
     "execution_count": 24,
     "metadata": {},
     "output_type": "execute_result"
    }
   ],
   "source": [
    "max(lst)"
   ]
  },
  {
   "cell_type": "code",
   "execution_count": null,
   "id": "5c68caba-4ae3-4076-b078-c925a5de475d",
   "metadata": {},
   "outputs": [],
   "source": []
  }
 ],
 "metadata": {
  "kernelspec": {
   "display_name": "Python 3 (ipykernel)",
   "language": "python",
   "name": "python3"
  },
  "language_info": {
   "codemirror_mode": {
    "name": "ipython",
    "version": 3
   },
   "file_extension": ".py",
   "mimetype": "text/x-python",
   "name": "python",
   "nbconvert_exporter": "python",
   "pygments_lexer": "ipython3",
   "version": "3.12.4"
  }
 },
 "nbformat": 4,
 "nbformat_minor": 5
}
