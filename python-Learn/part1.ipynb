{
 "cells": [
  {
   "cell_type": "code",
   "execution_count": 1,
   "id": "a75541d0-745e-4bd8-add5-15dea53be4b4",
   "metadata": {},
   "outputs": [],
   "source": [
    "my_str = \"Pratyush Poddar\""
   ]
  },
  {
   "cell_type": "markdown",
   "id": "81811a30-d4ce-4ebb-9684-05ec4d3f5706",
   "metadata": {},
   "source": [
    "# Lists"
   ]
  },
  {
   "cell_type": "markdown",
   "id": "c7e50c69-91b2-4465-916e-9074f2477ae4",
   "metadata": {},
   "source": [
    "### A list is a datastructure in python that is mutable or changeable ordered sequence of elements.Each element or value that is inside of a list is called an item.Just as Strings are defined as characters between quotes,list are defined by having values between square brackets[]"
   ]
  },
  {
   "cell_type": "code",
   "execution_count": 3,
   "id": "ad3deba9-9fbc-461b-a82a-7828a465f4ec",
   "metadata": {},
   "outputs": [],
   "source": [
    "lst_examples = []"
   ]
  },
  {
   "cell_type": "code",
   "execution_count": 4,
   "id": "69a19bf4-ebf8-4515-9e6b-c86ee75aa408",
   "metadata": {},
   "outputs": [
    {
     "data": {
      "text/plain": [
       "list"
      ]
     },
     "execution_count": 4,
     "metadata": {},
     "output_type": "execute_result"
    }
   ],
   "source": [
    "type(lst_examples)"
   ]
  },
  {
   "cell_type": "code",
   "execution_count": 5,
   "id": "7026b87d-1dd1-4ddd-9642-4fb231acd984",
   "metadata": {},
   "outputs": [],
   "source": [
    "lst = list()"
   ]
  },
  {
   "cell_type": "code",
   "execution_count": 6,
   "id": "39df15fe-2960-42de-99c8-67968d175914",
   "metadata": {},
   "outputs": [
    {
     "data": {
      "text/plain": [
       "list"
      ]
     },
     "execution_count": 6,
     "metadata": {},
     "output_type": "execute_result"
    }
   ],
   "source": [
    "type(lst)"
   ]
  },
  {
   "cell_type": "code",
   "execution_count": 7,
   "id": "6bfc542d-a822-41ca-a825-875d4bd85005",
   "metadata": {},
   "outputs": [],
   "source": [
    "lst = ['Math','chemistry',100,300]"
   ]
  },
  {
   "cell_type": "code",
   "execution_count": 8,
   "id": "9db34b4f-aea4-4621-9b73-9d7ec926a148",
   "metadata": {},
   "outputs": [
    {
     "data": {
      "text/plain": [
       "list"
      ]
     },
     "execution_count": 8,
     "metadata": {},
     "output_type": "execute_result"
    }
   ],
   "source": [
    "type(lst)"
   ]
  },
  {
   "cell_type": "markdown",
   "id": "379d95a0-2c33-47a6-a70b-f53c06a6209c",
   "metadata": {},
   "source": [
    "## Append"
   ]
  },
  {
   "cell_type": "code",
   "execution_count": 9,
   "id": "8f1eee86-7674-4679-badd-5513c84fba5c",
   "metadata": {},
   "outputs": [],
   "source": [
    "lst.append('shuva')"
   ]
  },
  {
   "cell_type": "code",
   "execution_count": 10,
   "id": "343fd7a3-ec57-4954-983d-2f1ffd34f5f8",
   "metadata": {},
   "outputs": [
    {
     "data": {
      "text/plain": [
       "['Math', 'chemistry', 100, 300, 'shuva']"
      ]
     },
     "execution_count": 10,
     "metadata": {},
     "output_type": "execute_result"
    }
   ],
   "source": [
    "lst"
   ]
  },
  {
   "cell_type": "markdown",
   "id": "28744d30-fa40-482e-bc5c-3b345483cfd1",
   "metadata": {},
   "source": [
    "## Insert"
   ]
  },
  {
   "cell_type": "code",
   "execution_count": 11,
   "id": "1232de45-5d7e-480f-a190-37f80d828dd5",
   "metadata": {},
   "outputs": [],
   "source": [
    "# insert in a specific order\n",
    "lst.insert(2,\"poddar\")"
   ]
  },
  {
   "cell_type": "code",
   "execution_count": 12,
   "id": "159957f1-b587-43ee-810f-12bd11c664c0",
   "metadata": {},
   "outputs": [
    {
     "data": {
      "text/plain": [
       "['Math', 'chemistry', 'poddar', 100, 300, 'shuva']"
      ]
     },
     "execution_count": 12,
     "metadata": {},
     "output_type": "execute_result"
    }
   ],
   "source": [
    "lst"
   ]
  },
  {
   "cell_type": "code",
   "execution_count": 13,
   "id": "1d2d65fc-a114-42ea-a92f-411cfcab284d",
   "metadata": {},
   "outputs": [],
   "source": [
    "lst.append([\"Hello\",\"World\"])"
   ]
  },
  {
   "cell_type": "code",
   "execution_count": 14,
   "id": "35231197-819e-4ede-9beb-1539f7f5657d",
   "metadata": {},
   "outputs": [
    {
     "data": {
      "text/plain": [
       "['Math', 'chemistry', 'poddar', 100, 300, 'shuva', ['Hello', 'World']]"
      ]
     },
     "execution_count": 14,
     "metadata": {},
     "output_type": "execute_result"
    }
   ],
   "source": [
    "lst"
   ]
  },
  {
   "cell_type": "markdown",
   "id": "b4fceb29-ab53-4a0e-a3d8-2c736394e284",
   "metadata": {},
   "source": [
    "## Extend"
   ]
  },
  {
   "cell_type": "code",
   "execution_count": 15,
   "id": "02ec3ab7-150d-4cda-b24a-b39990b9fa51",
   "metadata": {},
   "outputs": [],
   "source": [
    "lst =[1,2,3,4,5]"
   ]
  },
  {
   "cell_type": "code",
   "execution_count": 16,
   "id": "fc29b550-b806-4a76-b391-8594cdbf7810",
   "metadata": {},
   "outputs": [],
   "source": [
    "lst.extend([6,7])"
   ]
  },
  {
   "cell_type": "code",
   "execution_count": 17,
   "id": "20810fae-fc9a-4a09-b270-47f3285d80bc",
   "metadata": {},
   "outputs": [
    {
     "data": {
      "text/plain": [
       "[1, 2, 3, 4, 5, 6, 7]"
      ]
     },
     "execution_count": 17,
     "metadata": {},
     "output_type": "execute_result"
    }
   ],
   "source": [
    "lst"
   ]
  },
  {
   "cell_type": "code",
   "execution_count": 18,
   "id": "b73959c1-3499-42fa-bec6-cf2a64ad6bca",
   "metadata": {},
   "outputs": [],
   "source": [
    "lst.extend([\"Hello\",\"Shuvam\"])"
   ]
  },
  {
   "cell_type": "code",
   "execution_count": 19,
   "id": "dccf71ae-6430-48e2-a8a7-8f3d8f85e841",
   "metadata": {},
   "outputs": [
    {
     "data": {
      "text/plain": [
       "[1, 2, 3, 4, 5, 6, 7, 'Hello', 'Shuvam']"
      ]
     },
     "execution_count": 19,
     "metadata": {},
     "output_type": "execute_result"
    }
   ],
   "source": [
    "lst"
   ]
  },
  {
   "cell_type": "markdown",
   "id": "7185b3d5-5a1e-4b95-91da-cd114c7a6d30",
   "metadata": {},
   "source": [
    "### count and indesx"
   ]
  },
  {
   "cell_type": "code",
   "execution_count": 20,
   "id": "4e86b030-52fb-4a5d-839c-8d14b09e503e",
   "metadata": {},
   "outputs": [
    {
     "data": {
      "text/plain": [
       "2"
      ]
     },
     "execution_count": 20,
     "metadata": {},
     "output_type": "execute_result"
    }
   ],
   "source": [
    "lst = [1,1,2,3,4,5]\n",
    "lst.count(1)"
   ]
  },
  {
   "cell_type": "code",
   "execution_count": 21,
   "id": "bf052509-325c-4454-9a3d-7f5cc903297e",
   "metadata": {},
   "outputs": [
    {
     "data": {
      "text/plain": [
       "6"
      ]
     },
     "execution_count": 21,
     "metadata": {},
     "output_type": "execute_result"
    }
   ],
   "source": [
    "# len:calculates total len of list\n",
    "len(lst)"
   ]
  },
  {
   "cell_type": "code",
   "execution_count": 22,
   "id": "d6ce1ad3-89a4-4a0e-a382-df4dd67a275a",
   "metadata": {},
   "outputs": [
    {
     "data": {
      "text/plain": [
       "0"
      ]
     },
     "execution_count": 22,
     "metadata": {},
     "output_type": "execute_result"
    }
   ],
   "source": [
    "# index() : Returns the index of first occurence.Start and End index are not necessary parameters\n",
    "lst.index(1,0,4)"
   ]
  },
  {
   "cell_type": "code",
   "execution_count": 23,
   "id": "78f5e25c-9686-4f26-bc9a-683562b49ccf",
   "metadata": {},
   "outputs": [
    {
     "data": {
      "text/plain": [
       "1"
      ]
     },
     "execution_count": 23,
     "metadata": {},
     "output_type": "execute_result"
    }
   ],
   "source": [
    "# min and max\n",
    "min(lst)"
   ]
  },
  {
   "cell_type": "code",
   "execution_count": 24,
   "id": "099b43cc-f513-4edd-a20d-6527a8909a59",
   "metadata": {},
   "outputs": [
    {
     "data": {
      "text/plain": [
       "5"
      ]
     },
     "execution_count": 24,
     "metadata": {},
     "output_type": "execute_result"
    }
   ],
   "source": [
    "max(lst)"
   ]
  },
  {
   "cell_type": "code",
   "execution_count": 25,
   "id": "5c68caba-4ae3-4076-b078-c925a5de475d",
   "metadata": {},
   "outputs": [
    {
     "name": "stderr",
     "output_type": "stream",
     "text": [
      "warning: in the working copy of 'python-Learn/.ipynb_checkpoints/part1-checkpoint.ipynb', LF will be replaced by CRLF the next time Git touches it\n",
      "warning: in the working copy of 'python-Learn/part1.ipynb', LF will be replaced by CRLF the next time Git touches it\n"
     ]
    }
   ],
   "source": [
    "!git add .\n"
   ]
  },
  {
   "cell_type": "code",
   "execution_count": 26,
   "id": "dd7ca562-cd00-4dd2-9087-6aaeca8a80b9",
   "metadata": {},
   "outputs": [
    {
     "name": "stdout",
     "output_type": "stream",
     "text": [
      "[main db20821] list\n",
      " 2 files changed, 465 insertions(+)\n",
      " create mode 100644 python-Learn/.ipynb_checkpoints/part1-checkpoint.ipynb\n",
      " create mode 100644 python-Learn/part1.ipynb\n"
     ]
    }
   ],
   "source": [
    "!git commit -m \"list\""
   ]
  },
  {
   "cell_type": "code",
   "execution_count": 27,
   "id": "df54cd63-9972-4a81-8769-51930246bf9f",
   "metadata": {},
   "outputs": [
    {
     "name": "stderr",
     "output_type": "stream",
     "text": [
      "To https://github.com/PratyushPoddar07/DSA_on_Python.git\n",
      "   90214c9..db20821  main -> main\n"
     ]
    }
   ],
   "source": [
    "!git push"
   ]
  },
  {
   "cell_type": "markdown",
   "id": "48034230-4737-41f3-b460-ab51e816eee0",
   "metadata": {},
   "source": [
    "## Sets"
   ]
  },
  {
   "cell_type": "markdown",
   "id": "7b3f4377-0940-4f4f-820f-102e8e63c4aa",
   "metadata": {},
   "source": [
    "### A set is an unordered collection datatypes thagt is iterable,mutable, and has no duplicate elements.Python's set class represnts the mathematical notion of a set.This is based on data structure known as hash table"
   ]
  },
  {
   "cell_type": "code",
   "execution_count": 28,
   "id": "3b166d1a-4c32-495b-845c-23b0a386e912",
   "metadata": {},
   "outputs": [],
   "source": [
    "# # Defining  an empty set\n",
    "set_var = set()"
   ]
  },
  {
   "cell_type": "code",
   "execution_count": 29,
   "id": "43aae42d-eb0f-49bc-87b9-03997a1c0c49",
   "metadata": {},
   "outputs": [
    {
     "data": {
      "text/plain": [
       "set()"
      ]
     },
     "execution_count": 29,
     "metadata": {},
     "output_type": "execute_result"
    }
   ],
   "source": [
    "set_var"
   ]
  },
  {
   "cell_type": "code",
   "execution_count": 30,
   "id": "f8ceeaa0-a597-4e76-82ec-2c82578f48a0",
   "metadata": {},
   "outputs": [
    {
     "data": {
      "text/plain": [
       "set"
      ]
     },
     "execution_count": 30,
     "metadata": {},
     "output_type": "execute_result"
    }
   ],
   "source": [
    "type(set_var)"
   ]
  },
  {
   "cell_type": "code",
   "execution_count": 31,
   "id": "ac093283-2d3f-43f6-b971-264fd3549b1b",
   "metadata": {},
   "outputs": [],
   "source": [
    "set_var = {\"Avengers\",\"IronMan\",\"Hitman\"}\n"
   ]
  },
  {
   "cell_type": "code",
   "execution_count": 32,
   "id": "b1fc03fb-e84f-4d20-85db-5fbfa8954b8f",
   "metadata": {},
   "outputs": [],
   "source": [
    "set_var.add(\"Hulk\")"
   ]
  },
  {
   "cell_type": "code",
   "execution_count": 33,
   "id": "68dc3838-93fe-4e26-a2d4-680d0561672c",
   "metadata": {},
   "outputs": [
    {
     "data": {
      "text/plain": [
       "{'Avengers', 'Hitman', 'Hulk', 'IronMan'}"
      ]
     },
     "execution_count": 33,
     "metadata": {},
     "output_type": "execute_result"
    }
   ],
   "source": [
    "set_var"
   ]
  },
  {
   "cell_type": "code",
   "execution_count": 41,
   "id": "699177ff-de80-4c6c-87f0-2434d80e3a62",
   "metadata": {},
   "outputs": [],
   "source": [
    "set1 = {\"Avengers\",\"IronMan\",\"Hitman\"}\n",
    "set2 = {\"Avengers\",\"IronMan\",\"Hitman\",\"Hulk\"}"
   ]
  },
  {
   "cell_type": "code",
   "execution_count": 42,
   "id": "66eef09c-deef-47e1-805e-0371f16ba156",
   "metadata": {},
   "outputs": [
    {
     "data": {
      "text/plain": [
       "{'Avengers', 'Hitman', 'IronMan'}"
      ]
     },
     "execution_count": 42,
     "metadata": {},
     "output_type": "execute_result"
    }
   ],
   "source": [
    "set2.intersection(set1)"
   ]
  },
  {
   "cell_type": "code",
   "execution_count": 43,
   "id": "ba012804-860c-41a9-a4cc-7fc7f98aa580",
   "metadata": {},
   "outputs": [
    {
     "data": {
      "text/plain": [
       "{'Hulk'}"
      ]
     },
     "execution_count": 43,
     "metadata": {},
     "output_type": "execute_result"
    }
   ],
   "source": [
    "# difference \n",
    "set2.difference(set1)"
   ]
  },
  {
   "cell_type": "code",
   "execution_count": 44,
   "id": "2286c943-f378-4585-8d58-d4a0cd9b372d",
   "metadata": {},
   "outputs": [
    {
     "data": {
      "text/plain": [
       "{'Avengers', 'Hitman', 'IronMan'}"
      ]
     },
     "execution_count": 44,
     "metadata": {},
     "output_type": "execute_result"
    }
   ],
   "source": [
    "set2.intersection(set1)"
   ]
  },
  {
   "cell_type": "code",
   "execution_count": 45,
   "id": "314dc454-e5b4-487f-be57-6f17eb25582e",
   "metadata": {},
   "outputs": [],
   "source": [
    "set2.difference_update(set1)"
   ]
  },
  {
   "cell_type": "code",
   "execution_count": 46,
   "id": "de202cdf-be52-42ca-beee-b55a8be33d78",
   "metadata": {},
   "outputs": [
    {
     "data": {
      "text/plain": [
       "{'Hulk'}"
      ]
     },
     "execution_count": 46,
     "metadata": {},
     "output_type": "execute_result"
    }
   ],
   "source": [
    "set2"
   ]
  },
  {
   "cell_type": "markdown",
   "id": "8caab3a2-fed5-4ca8-bc74-007ed1ad5e3c",
   "metadata": {},
   "source": [
    "## Dictionaries"
   ]
  },
  {
   "cell_type": "markdown",
   "id": "0e50a2c2-f79c-43b7-906e-69c051f692a9",
   "metadata": {},
   "source": [
    "### A dictionary is a collection which is unordeered, changeable and indexed.In  python dictionaries are written with curly brackets, and they have keys values."
   ]
  },
  {
   "cell_type": "code",
   "execution_count": 47,
   "id": "19a37f81-9b43-4d4c-bcdd-fdaedbc28b41",
   "metadata": {},
   "outputs": [],
   "source": [
    "my_dict = {\"Car1\":\"Audi\",\"Car2\":\"BMW\",\"Car3\":\"Mercidies Benz\"}"
   ]
  },
  {
   "cell_type": "code",
   "execution_count": 48,
   "id": "279330b6-b4eb-400d-ba38-abb0348faa92",
   "metadata": {},
   "outputs": [
    {
     "data": {
      "text/plain": [
       "dict"
      ]
     },
     "execution_count": 48,
     "metadata": {},
     "output_type": "execute_result"
    }
   ],
   "source": [
    "type(my_dict)"
   ]
  },
  {
   "cell_type": "code",
   "execution_count": 49,
   "id": "a4e1634e-fce3-43f4-8e0b-a0984ea6fc65",
   "metadata": {},
   "outputs": [
    {
     "data": {
      "text/plain": [
       "'Audi'"
      ]
     },
     "execution_count": 49,
     "metadata": {},
     "output_type": "execute_result"
    }
   ],
   "source": [
    "# Acess the item values based on keys\n",
    "my_dict['Car1']"
   ]
  },
  {
   "cell_type": "code",
   "execution_count": 50,
   "id": "059aef27-ac09-45ae-9d06-cbde7afa1ef6",
   "metadata": {},
   "outputs": [
    {
     "name": "stdout",
     "output_type": "stream",
     "text": [
      "Car1\n",
      "Car2\n",
      "Car3\n"
     ]
    }
   ],
   "source": [
    "for x in my_dict:\n",
    "    print(x)"
   ]
  },
  {
   "cell_type": "code",
   "execution_count": 51,
   "id": "9a27301a-b878-43e7-b2e5-9e37f39c94de",
   "metadata": {},
   "outputs": [
    {
     "name": "stdout",
     "output_type": "stream",
     "text": [
      "Audi\n",
      "BMW\n",
      "Mercidies Benz\n"
     ]
    }
   ],
   "source": [
    "for x in my_dict.values():\n",
    "    print(x)"
   ]
  },
  {
   "cell_type": "code",
   "execution_count": 52,
   "id": "2936373a-d201-42ac-b1b3-933053443a3a",
   "metadata": {},
   "outputs": [
    {
     "name": "stdout",
     "output_type": "stream",
     "text": [
      "('Car1', 'Audi')\n",
      "('Car2', 'BMW')\n",
      "('Car3', 'Mercidies Benz')\n"
     ]
    }
   ],
   "source": [
    "for x in my_dict.items():\n",
    "    print(x)"
   ]
  },
  {
   "cell_type": "code",
   "execution_count": 53,
   "id": "45d11f1c-c6d4-45df-a953-3027278737a1",
   "metadata": {},
   "outputs": [],
   "source": [
    "my_dict['car4'] = \"Audi 2.0\""
   ]
  },
  {
   "cell_type": "code",
   "execution_count": 54,
   "id": "196f1678-f368-4ff9-ba96-b652f55a0418",
   "metadata": {},
   "outputs": [
    {
     "data": {
      "text/plain": [
       "{'Car1': 'Audi', 'Car2': 'BMW', 'Car3': 'Mercidies Benz', 'car4': 'Audi 2.0'}"
      ]
     },
     "execution_count": 54,
     "metadata": {},
     "output_type": "execute_result"
    }
   ],
   "source": [
    "my_dict"
   ]
  },
  {
   "cell_type": "code",
   "execution_count": null,
   "id": "39da433f-1f15-4787-b4e8-549742adfc4a",
   "metadata": {},
   "outputs": [],
   "source": []
  }
 ],
 "metadata": {
  "kernelspec": {
   "display_name": "Python 3 (ipykernel)",
   "language": "python",
   "name": "python3"
  },
  "language_info": {
   "codemirror_mode": {
    "name": "ipython",
    "version": 3
   },
   "file_extension": ".py",
   "mimetype": "text/x-python",
   "name": "python",
   "nbconvert_exporter": "python",
   "pygments_lexer": "ipython3",
   "version": "3.12.4"
  }
 },
 "nbformat": 4,
 "nbformat_minor": 5
}
