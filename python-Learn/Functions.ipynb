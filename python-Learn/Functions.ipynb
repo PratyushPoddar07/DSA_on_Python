{
 "cells": [
  {
   "cell_type": "markdown",
   "id": "c60588cc-cdc9-4491-a98d-04f17b01a6a7",
   "metadata": {},
   "source": [
    "## Functions in Python\n",
    "- Why Functions\n",
    "- Function Definition\n",
    "- Positional and keyword Arguments in Functions"
   ]
  },
  {
   "cell_type": "code",
   "execution_count": 3,
   "id": "65ec48b8-b78a-4f70-97a8-838c15e8312a",
   "metadata": {},
   "outputs": [
    {
     "name": "stdout",
     "output_type": "stream",
     "text": [
      "The number is even\n"
     ]
    }
   ],
   "source": [
    "num = 24\n",
    "\n",
    "if num% 2 == 0:\n",
    "    print(\"The number is even\")\n",
    "else:\n",
    "    print(\"The number is odd\")"
   ]
  },
  {
   "cell_type": "code",
   "execution_count": 4,
   "id": "920b2484-d283-4a87-8b02-414e749ea6c9",
   "metadata": {},
   "outputs": [],
   "source": [
    "def even_odd(num):\n",
    "    if num% 2 == 0:\n",
    "        print(\"The number is even\")\n",
    "    else:\n",
    "        print(\"The number is odd\")"
   ]
  },
  {
   "cell_type": "code",
   "execution_count": 5,
   "id": "84565b5f-1aef-4811-b237-e4b4cd281492",
   "metadata": {},
   "outputs": [
    {
     "name": "stdout",
     "output_type": "stream",
     "text": [
      "The number is odd\n"
     ]
    }
   ],
   "source": [
    "even_odd(23)"
   ]
  },
  {
   "cell_type": "code",
   "execution_count": 9,
   "id": "6595b082-8164-4981-898e-8c7c9d9289f5",
   "metadata": {},
   "outputs": [],
   "source": [
    "# print vs return \n",
    "# - return is used when a function is returning something back after it is getting executed \n",
    "\n",
    "def helloworld():\n",
    "    print(\"Hello World\")"
   ]
  },
  {
   "cell_type": "code",
   "execution_count": 7,
   "id": "8ccf6e16-4683-4839-9fe9-74e79379bddc",
   "metadata": {},
   "outputs": [
    {
     "name": "stdout",
     "output_type": "stream",
     "text": [
      "Hello World\n"
     ]
    }
   ],
   "source": [
    "helloworld()"
   ]
  },
  {
   "cell_type": "code",
   "execution_count": 10,
   "id": "ab2412c7-e24f-4cd9-82c3-40f9497e9980",
   "metadata": {},
   "outputs": [],
   "source": [
    "# Positional argument : in the function the parameter which having no default value . ex, name\n",
    "# keyword argument : in the function the parameter which having the default value , ex ,age =12\n",
    "\n",
    "def Hello(name,age = 12):\n",
    "    print(\"My name is {} and age is {}\".format(name,age))"
   ]
  },
  {
   "cell_type": "code",
   "execution_count": 14,
   "id": "34f83f11-0e85-4845-923d-400c905f3a8a",
   "metadata": {},
   "outputs": [
    {
     "name": "stdout",
     "output_type": "stream",
     "text": [
      "My name is shuvam and age is 12\n"
     ]
    }
   ],
   "source": [
    "Hello(\"shuvam\")"
   ]
  },
  {
   "cell_type": "code",
   "execution_count": null,
   "id": "c90f18db-e2b4-4c36-9baa-ebb22924842b",
   "metadata": {},
   "outputs": [],
   "source": []
  },
  {
   "cell_type": "code",
   "execution_count": null,
   "id": "3de509d8-4d4b-44ce-866b-0c3d96da7e72",
   "metadata": {},
   "outputs": [],
   "source": []
  },
  {
   "cell_type": "code",
   "execution_count": null,
   "id": "d9d27e24-1752-4af6-a675-6732eec2073f",
   "metadata": {},
   "outputs": [],
   "source": []
  }
 ],
 "metadata": {
  "kernelspec": {
   "display_name": "Python 3 (ipykernel)",
   "language": "python",
   "name": "python3"
  },
  "language_info": {
   "codemirror_mode": {
    "name": "ipython",
    "version": 3
   },
   "file_extension": ".py",
   "mimetype": "text/x-python",
   "name": "python",
   "nbconvert_exporter": "python",
   "pygments_lexer": "ipython3",
   "version": "3.12.4"
  }
 },
 "nbformat": 4,
 "nbformat_minor": 5
}
