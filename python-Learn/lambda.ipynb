{
 "cells": [
  {
   "cell_type": "markdown",
   "id": "2c49d205-2fa5-4244-b6ef-a534a3a2cc8f",
   "metadata": {},
   "source": [
    "## Lambda function\n",
    "- also known as anonmyous function\n",
    "- function with no name\n",
    "  "
   ]
  },
  {
   "cell_type": "code",
   "execution_count": 1,
   "id": "ac644fcc-a43b-4771-a834-0de6173f1d87",
   "metadata": {},
   "outputs": [],
   "source": [
    "def addition(a,b):\n",
    "    return a+b\n",
    "    "
   ]
  },
  {
   "cell_type": "code",
   "execution_count": 2,
   "id": "ba100e70-1abd-42a8-96e2-1c3c4b3d18bb",
   "metadata": {},
   "outputs": [
    {
     "data": {
      "text/plain": [
       "9"
      ]
     },
     "execution_count": 2,
     "metadata": {},
     "output_type": "execute_result"
    }
   ],
   "source": [
    "addition(4,5)"
   ]
  },
  {
   "cell_type": "code",
   "execution_count": 3,
   "id": "2b8576f8-6f97-42e0-bc1d-d192af6630d9",
   "metadata": {},
   "outputs": [],
   "source": [
    "add =  lambda a,b:a+b"
   ]
  },
  {
   "cell_type": "code",
   "execution_count": 6,
   "id": "12482f26-bd76-49dd-b468-d24ca3d3ef78",
   "metadata": {},
   "outputs": [
    {
     "data": {
      "text/plain": [
       "26"
      ]
     },
     "execution_count": 6,
     "metadata": {},
     "output_type": "execute_result"
    }
   ],
   "source": [
    "add(12,14)"
   ]
  },
  {
   "cell_type": "code",
   "execution_count": 7,
   "id": "6b238690-81fc-46a1-aa33-5244e8a811e3",
   "metadata": {},
   "outputs": [],
   "source": [
    "def even(num):\n",
    "    if num %2 ==0 :\n",
    "        return True\n",
    "    else:\n",
    "        return False"
   ]
  },
  {
   "cell_type": "code",
   "execution_count": 10,
   "id": "5ca4f6c6-e785-4938-8bf8-1678950a5be9",
   "metadata": {},
   "outputs": [
    {
     "data": {
      "text/plain": [
       "True"
      ]
     },
     "execution_count": 10,
     "metadata": {},
     "output_type": "execute_result"
    }
   ],
   "source": [
    "even(92)"
   ]
  },
  {
   "cell_type": "code",
   "execution_count": 11,
   "id": "14c77d76-a0b0-4c0e-8be5-7ebfe79e534a",
   "metadata": {},
   "outputs": [],
   "source": [
    "even = lambda a:a %2 ==0\n"
   ]
  },
  {
   "cell_type": "code",
   "execution_count": 12,
   "id": "78d082e9-7a24-4408-a386-6d6a52cca6a8",
   "metadata": {},
   "outputs": [
    {
     "data": {
      "text/plain": [
       "False"
      ]
     },
     "execution_count": 12,
     "metadata": {},
     "output_type": "execute_result"
    }
   ],
   "source": [
    "even(45)"
   ]
  },
  {
   "cell_type": "code",
   "execution_count": null,
   "id": "8c88319d-476d-4c86-9332-b3ef8c101be5",
   "metadata": {},
   "outputs": [],
   "source": []
  }
 ],
 "metadata": {
  "kernelspec": {
   "display_name": "Python 3 (ipykernel)",
   "language": "python",
   "name": "python3"
  },
  "language_info": {
   "codemirror_mode": {
    "name": "ipython",
    "version": 3
   },
   "file_extension": ".py",
   "mimetype": "text/x-python",
   "name": "python",
   "nbconvert_exporter": "python",
   "pygments_lexer": "ipython3",
   "version": "3.12.4"
  }
 },
 "nbformat": 4,
 "nbformat_minor": 5
}
