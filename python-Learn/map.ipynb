{
 "cells": [
  {
   "cell_type": "markdown",
   "id": "baa84f46-4f2a-4572-b367-26f072ffc2ce",
   "metadata": {},
   "source": [
    "## Map function in  python"
   ]
  },
  {
   "cell_type": "code",
   "execution_count": 1,
   "id": "aea737d1-2fbc-42b3-a16d-95eaea491d34",
   "metadata": {},
   "outputs": [],
   "source": [
    "def even_or_odd(num):\n",
    "    if num %2 ==0:\n",
    "        return f\"The number {num} is Even\"\n",
    "    else:\n",
    "        return f\"The number {num} is odd\"\n",
    "        "
   ]
  },
  {
   "cell_type": "code",
   "execution_count": 2,
   "id": "1dde304d-7f05-477a-8044-fcc20d7265c8",
   "metadata": {},
   "outputs": [
    {
     "data": {
      "text/plain": [
       "'The number 45 is odd'"
      ]
     },
     "execution_count": 2,
     "metadata": {},
     "output_type": "execute_result"
    }
   ],
   "source": [
    "even_or_odd(45)"
   ]
  },
  {
   "cell_type": "code",
   "execution_count": 4,
   "id": "7c03ff7d-8db7-4c92-b154-452ae089a698",
   "metadata": {},
   "outputs": [
    {
     "data": {
      "text/plain": [
       "['The number 1 is odd',\n",
       " 'The number 2 is Even',\n",
       " 'The number 3 is odd',\n",
       " 'The number 4 is Even',\n",
       " 'The number 5 is odd',\n",
       " 'The number 6 is Even',\n",
       " 'The number 7 is odd',\n",
       " 'The number 8 is Even',\n",
       " 'The number 9 is odd']"
      ]
     },
     "execution_count": 4,
     "metadata": {},
     "output_type": "execute_result"
    }
   ],
   "source": [
    "lst =[1,2,3,4,5,6,7,8,9]\n",
    "list(map(even_or_odd,lst))"
   ]
  },
  {
   "cell_type": "markdown",
   "id": "528f29f8-113b-41b8-879f-57bae98e8b38",
   "metadata": {},
   "source": [
    "## Filter function"
   ]
  },
  {
   "cell_type": "code",
   "execution_count": 5,
   "id": "2cb1acbd-184d-4eee-bb02-237daf660953",
   "metadata": {},
   "outputs": [],
   "source": [
    "def even(num):\n",
    "    if num % 2== 0:\n",
    "        return True\n",
    "    "
   ]
  },
  {
   "cell_type": "code",
   "execution_count": 6,
   "id": "3712686d-918e-4636-a69f-bc7d105885c5",
   "metadata": {},
   "outputs": [],
   "source": [
    "lst = [1,2,3,4,5,6,7,8,9]\n"
   ]
  },
  {
   "cell_type": "code",
   "execution_count": 7,
   "id": "d067bd45-9ab5-44a9-be20-60f77e0bf451",
   "metadata": {},
   "outputs": [
    {
     "data": {
      "text/plain": [
       "[2, 4, 6, 8]"
      ]
     },
     "execution_count": 7,
     "metadata": {},
     "output_type": "execute_result"
    }
   ],
   "source": [
    "list(filter(even,lst))"
   ]
  },
  {
   "cell_type": "code",
   "execution_count": 8,
   "id": "9241ff3f-be89-4448-a879-1e938a86cbb1",
   "metadata": {},
   "outputs": [
    {
     "data": {
      "text/plain": [
       "[2, 4, 6, 8]"
      ]
     },
     "execution_count": 8,
     "metadata": {},
     "output_type": "execute_result"
    }
   ],
   "source": [
    "list(filter(lambda x: x%2 == 0,lst))"
   ]
  },
  {
   "cell_type": "code",
   "execution_count": null,
   "id": "adf05c52-7e3a-4286-adab-deb591a3a3b6",
   "metadata": {},
   "outputs": [],
   "source": []
  }
 ],
 "metadata": {
  "kernelspec": {
   "display_name": "Python 3 (ipykernel)",
   "language": "python",
   "name": "python3"
  },
  "language_info": {
   "codemirror_mode": {
    "name": "ipython",
    "version": 3
   },
   "file_extension": ".py",
   "mimetype": "text/x-python",
   "name": "python",
   "nbconvert_exporter": "python",
   "pygments_lexer": "ipython3",
   "version": "3.12.4"
  }
 },
 "nbformat": 4,
 "nbformat_minor": 5
}
